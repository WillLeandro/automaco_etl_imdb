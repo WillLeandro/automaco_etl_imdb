{
 "cells": [
  {
   "cell_type": "code",
   "execution_count": 1,
   "metadata": {},
   "outputs": [],
   "source": [
    "import os\n",
    "import requests\n",
    "import pandas as pd\n",
    "import sqlite3"
   ]
  },
  {
   "cell_type": "markdown",
   "metadata": {},
   "source": [
    "- Download dos arquivos"
   ]
  },
  {
   "cell_type": "code",
   "execution_count": 11,
   "metadata": {},
   "outputs": [
    {
     "name": "stdout",
     "output_type": "stream",
     "text": [
      "name.basics.tsv.gz já esxiste. Pulando Downaload\n",
      "title.akas.tsv.gz já esxiste. Pulando Downaload\n",
      "title.basics.tsv.gz já esxiste. Pulando Downaload\n",
      "title.crew.tsv.gz já esxiste. Pulando Downaload\n",
      "title.episode.tsv.gz já esxiste. Pulando Downaload\n",
      "title.principals.tsv.gz já esxiste. Pulando Downaload\n",
      "title.ratings.tsv.gz já esxiste. Pulando Downaload\n",
      "Download Concluído!!\n"
     ]
    }
   ],
   "source": [
    "# URL para os datasets do INDB\n",
    "url_base = \"https://datasets.imdbws.com/\"\n",
    "\n",
    "# Lista dos arquivos a baixar\n",
    "arquivos = [\n",
    "    \"name.basics.tsv.gz\",\n",
    "    \"title.akas.tsv.gz\",\n",
    "    \"title.basics.tsv.gz\",\n",
    "    \"title.crew.tsv.gz\",\n",
    "    \"title.episode.tsv.gz\",\n",
    "    \"title.principals.tsv.gz\",\n",
    "    \"title.ratings.tsv.gz\"\n",
    "]\n",
    "\n",
    "destino_diretorio = 'data'\n",
    "\n",
    "# verificando a existencia do diretorio 'data'\n",
    "os.makedirs( destino_diretorio, exist_ok=True )\n",
    "\n",
    "# Loop para baixar os arquivos\n",
    "for arquivo in arquivos:\n",
    "    url = url_base + arquivo\n",
    "    caminho_destino = os.path.join( destino_diretorio, arquivo )\n",
    "\n",
    "    # verificando se o arquivo já existe no diretorio 'data'\n",
    "    if not os.path.exists( caminho_destino ):\n",
    "        print( f'Baixando {arquivo}...' )\n",
    "        response = requests.get( url )\n",
    "\n",
    "        # verificando solicitação ( código status = 200 )\n",
    "        if response.status_code == 200:\n",
    "            with open( caminho_destino, 'wb' ) as f:\n",
    "                f.write( response.content )\n",
    "            print(f'{arquivo} bixado com sucesso!')\n",
    "        \n",
    "        else:\n",
    "            print(f' Falaha ao baixar {arquivo}. Código de status: {response.status_code}')\n",
    "\n",
    "    else:\n",
    "        print(f'{arquivo} já esxiste. Pulando Downaload')\n",
    "print( 'Download Concluído!!')\n"
   ]
  },
  {
   "cell_type": "markdown",
   "metadata": {},
   "source": [
    "- Tratamento dos dados"
   ]
  },
  {
   "cell_type": "code",
   "execution_count": 2,
   "metadata": {},
   "outputs": [
    {
     "name": "stdout",
     "output_type": "stream",
     "text": [
      "Aquivo name.basics.tsv.gz já está tratado.\n",
      "Aquivo title.akas.tsv.gz já está tratado.\n",
      "Aquivo title.basics.tsv.gz já está tratado.\n",
      "Aquivo title.crew.tsv.gz já está tratado.\n",
      "Aquivo title.episode.tsv.gz já está tratado.\n",
      "Aquivo title.principals.tsv.gz já está tratado.\n",
      "Aquivo title.ratings.tsv.gz já está tratado.\n",
      "Aquivo tratados já está tratado.\n",
      "Todos os arquivos foram tratados e salvos no diretório tratados\n"
     ]
    }
   ],
   "source": [
    "\n",
    "# Diretórios\n",
    "diretorio_dados = 'data'\n",
    "diretorio_tratados = os.path.join(diretorio_dados, 'tratados')\n",
    "\n",
    "# Verificando se o diretório 'tratados' já existe\n",
    "os.makedirs(diretorio_tratados, exist_ok=True)\n",
    "\n",
    "# Lista todos os arquivos no diretório 'data'\n",
    "arquivos = os.listdir(diretorio_dados)\n",
    "\n",
    "# Função para processar chunks\n",
    "def processar_chunk(chunk, caminho_destino):\n",
    "    # Substituindo os caracteres '\\N' por None\n",
    "    chunk.replace({'\\\\N': None}, inplace=True)\n",
    "    # Salvando o dataframe no diretório 'tratados' sem compressão\n",
    "    chunk.to_csv(caminho_destino, sep='\\t', index=False, mode='a', header=not os.path.exists(caminho_destino))\n",
    "\n",
    "# Loop para abrir, tratar e salvar o arquivo\n",
    "for arquivo in arquivos:\n",
    "    caminho_arquivo = os.path.join(diretorio_dados, arquivo)\n",
    "\n",
    "    if not os.path.isfile(caminho_arquivo) and arquivo.endswith('.gz'):\n",
    "        print(f'Lendo e tratando o arquivo {arquivo}...')\n",
    "\n",
    "        # Definindo o caminho de destino para salvar o arquivo tratado\n",
    "        caminho_destino = os.path.join(diretorio_tratados, arquivo[:-3])  # removendo a extensão .gz\n",
    "\n",
    "        # Lê o arquivo TSV usando pandas em chunks\n",
    "        try:\n",
    "            chunksize = 10000  # Tamanho do chunk, ajuste conforme necessário\n",
    "            for chunk in pd.read_csv(caminho_arquivo, sep='\\t', compression='gzip', low_memory=False, chunksize=chunksize):\n",
    "                processar_chunk(chunk, caminho_destino)\n",
    "        except Exception as e:\n",
    "            print(f'Erro ao processar o arquivo {arquivo}: {e}')\n",
    "            continue\n",
    "\n",
    "        print(f'Tratamento concluído para {arquivo}. Salvo em {caminho_destino}')\n",
    "    else:\n",
    "        print(f'Aquivo {arquivo} já está tratado.')\n",
    "\n",
    "print('Todos os arquivos foram tratados e salvos no diretório tratados')\n"
   ]
  }
 ],
 "metadata": {
  "kernelspec": {
   "display_name": "env",
   "language": "python",
   "name": "python3"
  },
  "language_info": {
   "codemirror_mode": {
    "name": "ipython",
    "version": 3
   },
   "file_extension": ".py",
   "mimetype": "text/x-python",
   "name": "python",
   "nbconvert_exporter": "python",
   "pygments_lexer": "ipython3",
   "version": "3.12.3"
  }
 },
 "nbformat": 4,
 "nbformat_minor": 2
}
